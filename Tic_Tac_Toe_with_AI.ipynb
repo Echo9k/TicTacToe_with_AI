{
  "nbformat": 4,
  "nbformat_minor": 0,
  "metadata": {
    "colab": {
      "name": "Tic-Tac-Toe with AI",
      "provenance": [],
      "collapsed_sections": [],
      "include_colab_link": true
    },
    "kernelspec": {
      "name": "python3",
      "display_name": "Python 3"
    }
  },
  "cells": [
    {
      "cell_type": "markdown",
      "metadata": {
        "id": "view-in-github",
        "colab_type": "text"
      },
      "source": [
        "<a href=\"https://colab.research.google.com/github/Echo9k/TicTacToe_with_AI/blob/master/Tic_Tac_Toe_with_AI.ipynb\" target=\"_parent\"><img src=\"https://colab.research.google.com/assets/colab-badge.svg\" alt=\"Open In Colab\"/></a>"
      ]
    },
    {
      "cell_type": "markdown",
      "metadata": {
        "id": "oAAcOloUd5En",
        "colab_type": "text"
      },
      "source": [
        "# Set up"
      ]
    },
    {
      "cell_type": "code",
      "metadata": {
        "id": "3tvVacw-IjQu",
        "colab_type": "code",
        "colab": {}
      },
      "source": [
        "import random\n",
        "\n",
        "def print_state(board):\n",
        "  \"\"\"\n",
        "  Draws the current status of the game\n",
        "  \"\"\"\n",
        "  print('---------')\n",
        "  for j in range(3):\n",
        "    print('|', board[j][0], board[j][1], board[j][2],'|')\n",
        "  print('---------')\n",
        "\n",
        "def next_turn_vp(X_turn):\n",
        "  \"\"\"\n",
        "  Take X_turn as input to know whose turn is next\n",
        "  Then request the location for the next move,\n",
        "    checks if it's a legal move, if so\n",
        "      draws the move and changes the status of X_turn\n",
        "      if is not a legal move, returns the\n",
        "  \"\"\"\n",
        "  if X_turn:\n",
        "    while True:\n",
        "      x, __,y = input('X | Enter the coordinates: ')\n",
        "      try:\n",
        "        if board[int(x)-1][int(y)-1] == '_':\n",
        "          board[int(x)-1][int(y)-1] = 'X'\n",
        "          return False\n",
        "          break\n",
        "        else:\n",
        "          print('This cell is occupied! Choose another one!')\n",
        "      except ValueError:\n",
        "        print('You should enter numbers!')\n",
        "      except IndexError:\n",
        "        print('Coordinates should be from 1 to 3!')\n",
        "      except:\n",
        "        print(\"Unknown error.\")\n",
        "        print(\"Use two numbers between 1 and 3, separated by a space to make your move\")\n",
        "        print(\"The first value is for the rows, the second for the columns. This is: r# c#\")\n",
        "  else:\n",
        "    while True:\n",
        "      x, __,y = input('O | Enter the coordinates: ')\n",
        "      try:\n",
        "        if board[int(x)-1][int(y)-1] == '_':\n",
        "          board[int(x)-1][int(y)-1] = 'O'\n",
        "          return True\n",
        "          break\n",
        "        else:\n",
        "          print('This cell is occupied! Choose another one!')\n",
        "      except ValueError:\n",
        "        print('You should enter numbers!')\n",
        "      except IndexError:\n",
        "        print('Coordinates should be from 1 to 3!')\n",
        "\n",
        "def next_turn_vm(X_turn):\n",
        "  if X_turn:\n",
        "    while True:\n",
        "      x, __,y = input('X | Enter the coordinates: ')\n",
        "      try:\n",
        "        if board[int(x)-1][int(y)-1] == '_':\n",
        "          board[int(x)-1][int(y)-1] = 'X'\n",
        "          return False\n",
        "          break\n",
        "        else:\n",
        "          print('This cell is occupied! Choose another one!')\n",
        "      except ValueError:\n",
        "        print('You should enter numbers!')\n",
        "      except IndexError:\n",
        "        print('Coordinates should be from 1 to 3!')\n",
        "      except:\n",
        "        print(\"Unknown error.\")\n",
        "        print(\"Use two numbers between 1 and 3, separated by a space to make your move\")\n",
        "        print(\"The first value is for the rows, the second for the columns. This is: r# c#\")\n",
        "  else:\n",
        "    print('Making move level \"easy\"')\n",
        "    while True:\n",
        "      x = random.randint(1, 3)\n",
        "      y = random.randint(1, 3)\n",
        "      if board[int(x)-1][int(y)-1] == '_':\n",
        "        board[int(x)-1][int(y)-1] = 'O'\n",
        "        return True\n",
        "        break\n",
        "\n",
        "def winner(board):\n",
        "  # Horizontales\n",
        "  if   ((board[0][0] == board[0][1] == board[0][2]) & (board[0][0] is not '_')):\n",
        "    return True,board[0][0]\n",
        "  elif ((board[1][0] == board[1][1] == board[1][2]) & (board[1][0] is not '_')):\n",
        "    return True,board[1][0]\n",
        "  elif ((board[2][0] == board[2][1] == board[2][2]) & (board[2][0] is not '_')):\n",
        "    return True, board[2][0]\n",
        "  # Diagonales\n",
        "  elif ((board[0][0] == board[1][1] == board[2][2]) & (board[1][1] is not '_')):\n",
        "    return True, board[1][1]\n",
        "  elif ((board[2][0] == board[1][1] == board[0][2]) & (board[1][1] is not '_')):\n",
        "    return True, board[1][1]\n",
        "  # Verticales\n",
        "  if   ((board[0][0] == board[1][0] == board[2][0]) & (board[0][0] is not '_')):\n",
        "    return True ,board[0][0]\n",
        "  elif ((board[0][1] == board[1][1] == board[2][1]) & (board[0][1] is not '_')):\n",
        "    return True, board[0][1]\n",
        "  elif ((board[0][2] == board[1][2] == board[2][2]) & (board[0][2] is not '_')):\n",
        "    return True, board[0][2]\n",
        "  else:\n",
        "    False\n",
        "\n",
        "def pvp(X_turn):\n",
        "  while any(['_' in i for i in board]):\n",
        "    if winner(board):\n",
        "      print(winner(board)[1], \"wins\")\n",
        "      break\n",
        "    X_turn = next_turn_vp(X_turn)\n",
        "    print_state(board)\n",
        "    \n",
        "def pvm(X_turn):\n",
        "  while any(['_' in i for i in board]):\n",
        "    if winner(board):\n",
        "      print(winner(board)[1], \"wins\")\n",
        "      break\n",
        "    X_turn = next_turn_vm(X_turn)\n",
        "    print_state(board)"
      ],
      "execution_count": 0,
      "outputs": []
    },
    {
      "cell_type": "markdown",
      "metadata": {
        "id": "hrQIrEuteLBQ",
        "colab_type": "text"
      },
      "source": [
        "## Make easier to run Tic Tac Toe\n",
        "All is set up aleady. Let's create a function to put everything together and make easier for the player to run the game, call it: **play_ttt()**"
      ]
    },
    {
      "cell_type": "code",
      "metadata": {
        "colab_type": "code",
        "id": "vfsXp4A-5b_l",
        "colab": {}
      },
      "source": [
        "def play_ttt():\n",
        "  \"\"\"\n",
        "  \"\"\"\n",
        "  # Game type selector\n",
        "  print('Select your game type.')\n",
        "  print('Press 1 | To play agains another human')\n",
        "  print('Press 2 | To play agains the machine')\n",
        "  \n",
        "  ## Request user's input to select the gamemode\n",
        "  game_type = input('1 PvPn\\2 PvAIn')\n",
        "\n",
        "  if game_type in ('PvAI', '2'):    ## Player vs AI\n",
        "    s = '_________'\n",
        "    X_turn = True\n",
        "    vs_AI = True\n",
        "  else:                             ## Player vs Player\n",
        "    vs_AI = False\n",
        "    s = input('Press enter to start clean game ')\n",
        "    if len(s) == 0: # HIDDEN FEATURE: the user can restore a game\n",
        "      s = '_________'\n",
        "      X_turn = True\n",
        "    else:\n",
        "      if s.count(\"X\") > s.count(\"O\"):\n",
        "        X_turn = False\n",
        "      else:\n",
        "        X_turn = True\n",
        "  global board\n",
        "  board = [\n",
        "      [s[0],s[1],s[2]],\n",
        "      [s[3],s[4],s[5]],\n",
        "      [s[6],s[7],s[8]]]\n",
        "\n",
        "  print_state(board)\n",
        "  if vs_AI:\n",
        "    pvm(X_turn)\n",
        "  else:\n",
        "    pvp(X_turn)\n",
        "\n",
        "def run_game():\n",
        "  while True:\n",
        "    play_ttt()\n",
        "    if input('Press any key play again or \"q\" to quit:  ') == 'q':\n",
        "      break\n"
      ],
      "execution_count": 0,
      "outputs": []
    },
    {
      "cell_type": "markdown",
      "metadata": {
        "id": "A5FfXn8jeqOV",
        "colab_type": "text"
      },
      "source": [
        "# Time to play\n",
        "Just click on the play symbol at the left side and follow the instructions shown."
      ]
    },
    {
      "cell_type": "code",
      "metadata": {
        "id": "ag59NHONfrfb",
        "colab_type": "code",
        "colab": {}
      },
      "source": [
        "run_game()"
      ],
      "execution_count": 0,
      "outputs": []
    }
  ]
}